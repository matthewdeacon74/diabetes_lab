{
 "cells": [
  {
   "cell_type": "markdown",
   "metadata": {},
   "source": [
    "# Pima Data cleaning\n",
    "\n"
   ]
  },
  {
   "cell_type": "code",
   "execution_count": 85,
   "metadata": {},
   "outputs": [],
   "source": [
    "# Import Modules Here\n",
    "import pandas as pd"
   ]
  },
  {
   "cell_type": "markdown",
   "metadata": {},
   "source": [
    "## Part 1: Read the Data into Jupyter"
   ]
  },
  {
   "cell_type": "code",
   "execution_count": 86,
   "metadata": {},
   "outputs": [],
   "source": [
    "# Read the data into a dataframe named pima_df.\n",
    "pima_df = pd.read_csv('diabetes_uncleaned_data.csv')\n"
   ]
  },
  {
   "cell_type": "markdown",
   "metadata": {},
   "source": [
    "## Part 2: Missing Data"
   ]
  },
  {
   "cell_type": "code",
   "execution_count": 87,
   "metadata": {},
   "outputs": [
    {
     "data": {
      "text/plain": [
       "Pregnancies                 114\n",
       "Glucose                      16\n",
       "BloodPressure                22\n",
       "SkinThickness                 0\n",
       "Insulin                       0\n",
       "BMI                           1\n",
       "DiabetesPedigreeFunction      0\n",
       "Age                          22\n",
       "Outcome                       0\n",
       "dtype: int64"
      ]
     },
     "execution_count": 87,
     "metadata": {},
     "output_type": "execute_result"
    }
   ],
   "source": [
    "#Question 1:  Find Columns with missing data\n",
    "pima_df.isna().sum()"
   ]
  },
  {
   "cell_type": "code",
   "execution_count": 88,
   "metadata": {},
   "outputs": [
    {
     "name": "stdout",
     "output_type": "stream",
     "text": [
      "original: (1004, 9); trimmed: (840, 9)\n"
     ]
    }
   ],
   "source": [
    "# Question 2:  Write code to remove rows with missing data and save the new dataframe as pima_missing_fixed_df\n",
    "\n",
    "pima_missing_fixed_df = pima_df.dropna(how='any')\n",
    "print(f\"original: {pima_df.shape}; trimmed: {pima_missing_fixed_df.shape}\")"
   ]
  },
  {
   "cell_type": "code",
   "execution_count": 150,
   "metadata": {},
   "outputs": [
    {
     "name": "stdout",
     "output_type": "stream",
     "text": [
      "The new dataframe has 840 rows\n"
     ]
    }
   ],
   "source": [
    "# Question 3:  Print out the number of rows in the dataframe.\n",
    "print(f\"The new dataframe has {len(pima_missing_fixed_df)} rows\")"
   ]
  },
  {
   "cell_type": "markdown",
   "metadata": {},
   "source": [
    "### Question 4:  Discuss why this could be a problem.  What other methods could you use in this situation? \n",
    "Just because a row has some missing data doesn't mean it's worthless.  There may be plenty of useful data in it.\n",
    "It would probably be better to use pima_df.dropna(how='all') so that only rows without any data at all get removed.\n"
   ]
  },
  {
   "cell_type": "markdown",
   "metadata": {},
   "source": [
    "## Part 3: Duplicated Data"
   ]
  },
  {
   "cell_type": "code",
   "execution_count": 151,
   "metadata": {},
   "outputs": [
    {
     "data": {
      "text/html": [
       "<div>\n",
       "<style scoped>\n",
       "    .dataframe tbody tr th:only-of-type {\n",
       "        vertical-align: middle;\n",
       "    }\n",
       "\n",
       "    .dataframe tbody tr th {\n",
       "        vertical-align: top;\n",
       "    }\n",
       "\n",
       "    .dataframe thead th {\n",
       "        text-align: right;\n",
       "    }\n",
       "</style>\n",
       "<table border=\"1\" class=\"dataframe\">\n",
       "  <thead>\n",
       "    <tr style=\"text-align: right;\">\n",
       "      <th></th>\n",
       "      <th>Pregnancies</th>\n",
       "      <th>Glucose</th>\n",
       "      <th>BloodPressure</th>\n",
       "      <th>SkinThickness</th>\n",
       "      <th>Insulin</th>\n",
       "      <th>BMI</th>\n",
       "      <th>DiabetesPedigreeFunction</th>\n",
       "      <th>Age</th>\n",
       "      <th>Outcome</th>\n",
       "    </tr>\n",
       "  </thead>\n",
       "  <tbody>\n",
       "    <tr>\n",
       "      <th>925</th>\n",
       "      <td>6.0</td>\n",
       "      <td>39.0</td>\n",
       "      <td>46</td>\n",
       "      <td>2</td>\n",
       "      <td>287</td>\n",
       "      <td>40.4</td>\n",
       "      <td>2.394</td>\n",
       "      <td>60.0</td>\n",
       "      <td>TRUE</td>\n",
       "    </tr>\n",
       "    <tr>\n",
       "      <th>926</th>\n",
       "      <td>10.0</td>\n",
       "      <td>67.0</td>\n",
       "      <td>39</td>\n",
       "      <td>12</td>\n",
       "      <td>168</td>\n",
       "      <td>53.4</td>\n",
       "      <td>0.162</td>\n",
       "      <td>71.0</td>\n",
       "      <td>FALSE</td>\n",
       "    </tr>\n",
       "    <tr>\n",
       "      <th>999</th>\n",
       "      <td>6.0</td>\n",
       "      <td>110.0</td>\n",
       "      <td>26</td>\n",
       "      <td>27</td>\n",
       "      <td>590</td>\n",
       "      <td>20.8</td>\n",
       "      <td>1.185</td>\n",
       "      <td>95.0</td>\n",
       "      <td>FALSE</td>\n",
       "    </tr>\n",
       "    <tr>\n",
       "      <th>1003</th>\n",
       "      <td>6.0</td>\n",
       "      <td>151.0</td>\n",
       "      <td>60</td>\n",
       "      <td>26</td>\n",
       "      <td>362</td>\n",
       "      <td>43.4</td>\n",
       "      <td>2.027</td>\n",
       "      <td>23.0</td>\n",
       "      <td>FALSE</td>\n",
       "    </tr>\n",
       "  </tbody>\n",
       "</table>\n",
       "</div>"
      ],
      "text/plain": [
       "      Pregnancies  Glucose BloodPressure  SkinThickness  Insulin   BMI  \\\n",
       "925           6.0     39.0            46              2      287  40.4   \n",
       "926          10.0     67.0            39             12      168  53.4   \n",
       "999           6.0    110.0            26             27      590  20.8   \n",
       "1003          6.0    151.0            60             26      362  43.4   \n",
       "\n",
       "      DiabetesPedigreeFunction   Age Outcome  \n",
       "925                      2.394  60.0    TRUE  \n",
       "926                      0.162  71.0   FALSE  \n",
       "999                      1.185  95.0   FALSE  \n",
       "1003                     2.027  23.0   FALSE  "
      ]
     },
     "execution_count": 151,
     "metadata": {},
     "output_type": "execute_result"
    }
   ],
   "source": [
    "# Question 1: find the rows of duplicated data in the \n",
    "\n",
    "pima_missing_fixed_df[pima_missing_fixed_df.duplicated()]  # note that 'first' causes removal of 4 rows, so it looks like there are 4 pairs of duplicates"
   ]
  },
  {
   "cell_type": "code",
   "execution_count": 152,
   "metadata": {},
   "outputs": [],
   "source": [
    "# Question 2: Write code to remove rows with missing data \n",
    "# and save the new dataframe as pima_missing_fixed_df\n",
    "pima_dedupped_df = pima_missing_fixed_df.drop_duplicates()"
   ]
  },
  {
   "cell_type": "code",
   "execution_count": 153,
   "metadata": {},
   "outputs": [
    {
     "name": "stdout",
     "output_type": "stream",
     "text": [
      "836 rows in the de-duped DF\n"
     ]
    }
   ],
   "source": [
    "# Question 3:  Print out the number of rows in the dataframe.\n",
    "print(f\"{len(pima_dedupped_df)} rows in the de-duped DF\")"
   ]
  },
  {
   "cell_type": "markdown",
   "metadata": {},
   "source": [
    "### Question 4:  In your jupyter notebook, discuss why this could be a problem.\n",
    "### What other methods could you use in this situation? \n",
    "\n",
    "This question isn't in the lab directions, but if it's not a copy-paste error from part 2, then I assume this question refers to the duplicated data.  Duplicated data is a problem because it's useless bloat that doesn't give any additional insight.  Not sure what other methods would be better here though.  "
   ]
  },
  {
   "cell_type": "markdown",
   "metadata": {},
   "source": [
    "## Part 4: Mis-typed Columns/Broken Data\n"
   ]
  },
  {
   "cell_type": "code",
   "execution_count": 154,
   "metadata": {},
   "outputs": [
    {
     "name": "stdout",
     "output_type": "stream",
     "text": [
      "Pregnancies                 float64\n",
      "Glucose                     float64\n",
      "BloodPressure                object\n",
      "SkinThickness                 int64\n",
      "Insulin                       int64\n",
      "BMI                          object\n",
      "DiabetesPedigreeFunction    float64\n",
      "Age                         float64\n",
      "Outcome                      object\n",
      "dtype: object\n",
      "Pregnancies\n",
      " 8.0      73\n",
      " 7.0      73\n",
      " 3.0      64\n",
      " 13.0     63\n",
      " 10.0     61\n",
      " 6.0      61\n",
      " 11.0     61\n",
      " 12.0     61\n",
      " 0.0      58\n",
      " 4.0      58\n",
      " 9.0      57\n",
      " 1.0      52\n",
      " 2.0      48\n",
      " 5.0      45\n",
      "-100.0     1\n",
      "Name: count, dtype: int64\n",
      "Glucose\n",
      "180.0    11\n",
      "142.0    10\n",
      "39.0      9\n",
      "156.0     9\n",
      "131.0     8\n",
      "         ..\n",
      "175.0     1\n",
      "113.0     1\n",
      "100.0     1\n",
      "53.0      1\n",
      "61.0      1\n",
      "Name: count, Length: 196, dtype: int64\n",
      "BloodPressure\n",
      "26       15\n",
      "82       15\n",
      "27       15\n",
      "96       15\n",
      "81       13\n",
      "         ..\n",
      "107       4\n",
      "13        3\n",
      "10000     2\n",
      "Error     2\n",
      "19        1\n",
      "Name: count, Length: 113, dtype: int64\n",
      "SkinThickness\n",
      "25    25\n",
      "50    24\n",
      "10    23\n",
      "34    23\n",
      "35    22\n",
      "40    22\n",
      "33    21\n",
      "42    21\n",
      "15    21\n",
      "18    21\n",
      "6     21\n",
      "36    20\n",
      "48    20\n",
      "7     19\n",
      "26    19\n",
      "38    19\n",
      "3     18\n",
      "17    18\n",
      "37    18\n",
      "24    18\n",
      "14    17\n",
      "11    17\n",
      "20    17\n",
      "28    17\n",
      "39    17\n",
      "45    16\n",
      "12    16\n",
      "47    16\n",
      "27    16\n",
      "9     16\n",
      "0     16\n",
      "30    15\n",
      "44    15\n",
      "19    14\n",
      "23    14\n",
      "4     14\n",
      "43    14\n",
      "13    14\n",
      "21    14\n",
      "32    13\n",
      "8     13\n",
      "46    12\n",
      "22    12\n",
      "2     12\n",
      "16    11\n",
      "31    10\n",
      "1     10\n",
      "29     9\n",
      "41     9\n",
      "5      9\n",
      "49     8\n",
      "Name: count, dtype: int64\n",
      "Insulin\n",
      "310    5\n",
      "624    4\n",
      "215    4\n",
      "777    4\n",
      "816    4\n",
      "      ..\n",
      "311    1\n",
      "382    1\n",
      "54     1\n",
      "476    1\n",
      "590    1\n",
      "Name: count, Length: 539, dtype: int64\n",
      "BMI\n",
      "7.0     6\n",
      "17.4    6\n",
      "59.6    6\n",
      "15.1    6\n",
      "34.4    5\n",
      "       ..\n",
      "33.7    1\n",
      "38.2    1\n",
      "1.7     1\n",
      "3.6     1\n",
      "4.8     1\n",
      "Name: count, Length: 451, dtype: int64\n",
      "DiabetesPedigreeFunction\n",
      "1.826    4\n",
      "2.537    4\n",
      "0.489    3\n",
      "1.956    3\n",
      "1.197    3\n",
      "        ..\n",
      "0.466    1\n",
      "0.038    1\n",
      "0.607    1\n",
      "2.047    1\n",
      "2.411    1\n",
      "Name: count, Length: 716, dtype: int64\n",
      "Age\n",
      "124.0    14\n",
      "29.0     13\n",
      "85.0     12\n",
      "84.0     12\n",
      "74.0     11\n",
      "         ..\n",
      "123.0     2\n",
      "47.0      2\n",
      "37.0      2\n",
      "132.0     2\n",
      "55.0      2\n",
      "Name: count, Length: 130, dtype: int64\n",
      "Outcome\n",
      "FALSE    441\n",
      "TRUE     394\n",
      "ERROR      1\n",
      "Name: count, dtype: int64\n"
     ]
    }
   ],
   "source": [
    "# Question 1: find the columns where most of the data seems to be one type of data, and there seems to be a data error. In the markdown, after exploring in code, add a markdown cell discussing which columns have the data error. \n",
    "print(pima_dedupped_df.dtypes)\n",
    "for series_name, series in pima_dedupped_df.items():\n",
    "    print(series.value_counts())"
   ]
  },
  {
   "cell_type": "markdown",
   "metadata": {},
   "source": [
    "### Columns with (obvious) errors\n",
    "1. Pregnancies: has a negative value \n",
    "2. Blood Pressure: has 2 entries of \"error\" and another 2 of  \"10,000\"\n",
    "3. Outcome: has 1 entry of \"Error\"\n",
    "#### Columns that appear to have data type errors:\n",
    "1. Blood Pressure: is object, should be int or float\n",
    "2. outcome: is object, should be Boolean"
   ]
  },
  {
   "cell_type": "code",
   "execution_count": 111,
   "metadata": {},
   "outputs": [
    {
     "name": "stdout",
     "output_type": "stream",
     "text": [
      "BloodPressure\n",
      "53       17\n",
      "26       16\n",
      "84       16\n",
      "27       16\n",
      "82       15\n",
      "         ..\n",
      "104       5\n",
      "75        4\n",
      "67        4\n",
      "10000     2\n",
      "19        1\n",
      "Name: count, Length: 112, dtype: int64\n",
      " Outcome\n",
      "FALSE    525\n",
      "TRUE     475\n",
      "Name: count, dtype: int64\n"
     ]
    }
   ],
   "source": [
    "# Question 2: Remove the rows with data errors\n",
    "pima_df = pima_df[pima_df.BloodPressure != 'Error']\n",
    "pima_df = pima_df[pima_df.Outcome != 'ERROR']\n",
    "pima_df = pima_df[pima_df.BMI != 'Error']\n",
    "print(f\"{pima_df.BloodPressure.value_counts()}\\n {pima_df.Outcome.value_counts()}\")"
   ]
  },
  {
   "cell_type": "code",
   "execution_count": 115,
   "metadata": {},
   "outputs": [
    {
     "name": "stdout",
     "output_type": "stream",
     "text": [
      "Pregnancies                 float64\n",
      "Glucose                     float64\n",
      "BloodPressure               float64\n",
      "SkinThickness                 int64\n",
      "Insulin                       int64\n",
      "BMI                         float64\n",
      "DiabetesPedigreeFunction    float64\n",
      "Age                         float64\n",
      "Outcome                      object\n",
      "dtype: object\n"
     ]
    }
   ],
   "source": [
    "# Question 3: After the data is fixed in your columns change the columns to the correct type and save this as the pima_fixed_columns_df.\n",
    "# pima_fixed_columns_df = pima_df.convert_dtypes()\n",
    "\n",
    "pima_fixed_columns_df = pima_df.astype({'BloodPressure': float, 'BMI': float})\n",
    "print(pima_fixed_columns_df.dtypes)"
   ]
  },
  {
   "cell_type": "code",
   "execution_count": 116,
   "metadata": {},
   "outputs": [
    {
     "name": "stdout",
     "output_type": "stream",
     "text": [
      "<class 'pandas.core.frame.DataFrame'>\n",
      "Index: 1000 entries, 0 to 1003\n",
      "Data columns (total 9 columns):\n",
      " #   Column                    Non-Null Count  Dtype  \n",
      "---  ------                    --------------  -----  \n",
      " 0   Pregnancies               886 non-null    float64\n",
      " 1   Glucose                   984 non-null    float64\n",
      " 2   BloodPressure             978 non-null    float64\n",
      " 3   SkinThickness             1000 non-null   int64  \n",
      " 4   Insulin                   1000 non-null   int64  \n",
      " 5   BMI                       999 non-null    float64\n",
      " 6   DiabetesPedigreeFunction  1000 non-null   float64\n",
      " 7   Age                       978 non-null    float64\n",
      " 8   Outcome                   1000 non-null   object \n",
      "dtypes: float64(6), int64(2), object(1)\n",
      "memory usage: 78.1+ KB\n"
     ]
    }
   ],
   "source": [
    "# Question 4: Run pima_fixed_columns_df.info() to confirm the columns have changed.\n",
    "pima_fixed_columns_df.info()"
   ]
  },
  {
   "cell_type": "markdown",
   "metadata": {},
   "source": [
    "## Part 5: Outlier Detection and Removal\n"
   ]
  },
  {
   "cell_type": "code",
   "execution_count": 160,
   "metadata": {},
   "outputs": [
    {
     "name": "stdout",
     "output_type": "stream",
     "text": [
      "Pregnancies: [-100.   nan   nan   nan   nan   nan   nan   nan   nan   nan   nan   nan\n",
      "   nan   nan   nan   nan   nan   nan   nan   nan   nan   nan   nan   nan\n",
      "   nan   nan   nan   nan   nan   nan   nan   nan   nan   nan   nan   nan\n",
      "   nan   nan   nan   nan   nan   nan   nan   nan   nan   nan   nan   nan\n",
      "   nan   nan   nan   nan   nan   nan   nan   nan   nan   nan   nan   nan\n",
      "   nan   nan   nan   nan   nan   nan   nan   nan   nan   nan   nan   nan\n",
      "   nan   nan   nan   nan   nan   nan   nan   nan   nan   nan   nan   nan\n",
      "   nan   nan   nan   nan   nan   nan   nan   nan   nan   nan   nan   nan\n",
      "   nan   nan   nan   nan   nan   nan   nan   nan   nan   nan   nan   nan\n",
      "   nan   nan   nan   nan   nan   nan   nan]\n",
      "Glucose: [nan nan nan nan nan nan nan nan nan nan nan nan nan nan nan nan]\n",
      "BloodPressure: [   nan    nan    nan    nan    nan    nan    nan    nan    nan    nan\n",
      "    nan    nan    nan    nan    nan    nan 10000.    nan    nan    nan\n",
      "    nan    nan    nan 10000.]\n",
      "BMI: [nan]\n",
      "DiabetesPedigreeFunction: [-100.]\n",
      "Age: [nan nan nan nan nan nan nan nan nan nan nan nan nan nan nan nan nan nan\n",
      " nan nan nan nan]\n"
     ]
    }
   ],
   "source": [
    "# Question 1: Print out the Outliers in each column in the pima_fixed_columns_df dataframe, use the IQR method of outlier detection.\n",
    "\n",
    "# pima_fixed_columns_df.Glucose\n",
    "def is_outlier(column: pd.Series):\n",
    "    Q1 = column.quantile(0.25)\n",
    "    Q3 = column.quantile(0.75)\n",
    "    IQR = Q3 - Q1\n",
    "    lower_bound = Q1 - 1.5 * IQR\n",
    "    upper_bound = Q3 + 1.5 * IQR\n",
    "    return ~column.between(lower_bound, upper_bound)\n",
    "        \n",
    "for column, dtype in pima_fixed_columns_df.dtypes.items():\n",
    "    if dtype == float or dtype == int:\n",
    "        outliers = is_outlier(pima_fixed_columns_df[column])\n",
    "        outliers = pima_fixed_columns_df[column][outliers]\n",
    "        if len(outliers):\n",
    "            print(f\"{column}: {outliers.values}\")"
   ]
  },
  {
   "cell_type": "code",
   "execution_count": 161,
   "metadata": {},
   "outputs": [],
   "source": [
    "# Question 2: Use loc to remove outliers in each of the columns that have outliers, save this as pima_outlier_removed_df.\n",
    "outliers = is_outlier(pima_fixed_columns_df.Pregnancies) | is_outlier(pima_fixed_columns_df.BloodPressure) | is_outlier(pima_fixed_columns_df.DiabetesPedigreeFunction)\n",
    "pima_outlier_removed_df = pima_fixed_columns_df[~outliers]"
   ]
  },
  {
   "cell_type": "code",
   "execution_count": 162,
   "metadata": {},
   "outputs": [
    {
     "data": {
      "text/plain": [
       "867"
      ]
     },
     "execution_count": 162,
     "metadata": {},
     "output_type": "execute_result"
    }
   ],
   "source": [
    "# Question 3:  Print out the row count in the pima_outlier_removed_df and confirm this number is correct.\n",
    "len(pima_outlier_removed_df)"
   ]
  },
  {
   "cell_type": "code",
   "execution_count": null,
   "metadata": {},
   "outputs": [],
   "source": []
  }
 ],
 "metadata": {
  "kernelspec": {
   "display_name": "Python 3 (ipykernel)",
   "language": "python",
   "name": "python3"
  },
  "language_info": {
   "codemirror_mode": {
    "name": "ipython",
    "version": 3
   },
   "file_extension": ".py",
   "mimetype": "text/x-python",
   "name": "python",
   "nbconvert_exporter": "python",
   "pygments_lexer": "ipython3",
   "version": "3.11.7"
  }
 },
 "nbformat": 4,
 "nbformat_minor": 4
}
